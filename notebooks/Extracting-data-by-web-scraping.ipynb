{
 "cells": [
  {
   "cell_type": "markdown",
   "metadata": {},
   "source": [
    "## Extracting data by web scraping"
   ]
  },
  {
   "cell_type": "markdown",
   "metadata": {},
   "source": [
    "#### import package"
   ]
  },
  {
   "cell_type": "code",
   "execution_count": 1,
   "metadata": {},
   "outputs": [],
   "source": [
    "import requests\n",
    "from bs4 import BeautifulSoup"
   ]
  },
  {
   "cell_type": "code",
   "execution_count": 2,
   "metadata": {},
   "outputs": [],
   "source": [
    "html_string = \"\"\"\n",
    "                <!doctype html>\n",
    "                <html>\n",
    "                <head>\n",
    "                    <title>Doing Data Science using Python</title>\n",
    "                </head>\n",
    "                <body>\n",
    "                    <h1 style=\"color: #F15B2A\">Doing Data Science using Python</h1>\n",
    "                    <p id=\"author\">Author: Bhavana</p>\n",
    "                    <p id=\"desription\">This is an example</p>\n",
    "                    <h4 style=\"color:#404040\">Modules</h4>\n",
    "                    <table id=\"table\" style=\"width:50%\">\n",
    "                        <tr>\n",
    "                            <th>Title</th>\n",
    "                            <th>Duration(in minutes)</th>\n",
    "                        </tr>\n",
    "                        <tr>\n",
    "                            <td>Getting Started</td>\n",
    "                            <td>20</td>\n",
    "                        </tr>\n",
    "                        <tr>\n",
    "                            <td>Setting up environment</td>\n",
    "                            <td>35</td>\n",
    "                        </tr>\n",
    "                        <tr>\n",
    "                            <td>Extracting data</td>\n",
    "                            <td>45</td>\n",
    "                        </tr>\n",
    "                        <tr>\n",
    "                            <td>Exploring and processing data</td>\n",
    "                            <td>60</td>\n",
    "                        </tr>\n",
    "                        <tr>\n",
    "                            <td>Building predictive model</td>\n",
    "                            <td>50</td>\n",
    "                        </tr>\n",
    "                    </table>\n",
    "                </body>\n",
    "                </html>\n",
    "              \"\"\""
   ]
  },
  {
   "cell_type": "code",
   "execution_count": 3,
   "metadata": {},
   "outputs": [
    {
     "data": {
      "text/html": [
       "\n",
       "                <!doctype html>\n",
       "                <html>\n",
       "                <head>\n",
       "                    <title>Doing Data Science using Python</title>\n",
       "                </head>\n",
       "                <body>\n",
       "                    <h1 style=\"color: #F15B2A\">Doing Data Science using Python</h1>\n",
       "                    <p id=\"author\">Author: Bhavana</p>\n",
       "                    <p id=\"desription\">This is an example</p>\n",
       "                    <h4 style=\"color:#404040\">Modules</h4>\n",
       "                    <table id=\"table\" style=\"width:50%\">\n",
       "                        <tr>\n",
       "                            <th>Title</th>\n",
       "                            <th>Duration(in minutes)</th>\n",
       "                        </tr>\n",
       "                        <tr>\n",
       "                            <td>Getting Started</td>\n",
       "                            <td>20</td>\n",
       "                        </tr>\n",
       "                        <tr>\n",
       "                            <td>Setting up environment</td>\n",
       "                            <td>35</td>\n",
       "                        </tr>\n",
       "                        <tr>\n",
       "                            <td>Extracting data</td>\n",
       "                            <td>45</td>\n",
       "                        </tr>\n",
       "                        <tr>\n",
       "                            <td>Exploring and processing data</td>\n",
       "                            <td>60</td>\n",
       "                        </tr>\n",
       "                        <tr>\n",
       "                            <td>Building predictive model</td>\n",
       "                            <td>50</td>\n",
       "                        </tr>\n",
       "                    </table>\n",
       "                </body>\n",
       "                </html>\n",
       "              "
      ],
      "text/plain": [
       "<IPython.core.display.HTML object>"
      ]
     },
     "metadata": {},
     "output_type": "display_data"
    }
   ],
   "source": [
    "from IPython.core.display import display, HTML\n",
    "display(HTML(html_string))"
   ]
  },
  {
   "cell_type": "code",
   "execution_count": 4,
   "metadata": {},
   "outputs": [
    {
     "name": "stderr",
     "output_type": "stream",
     "text": [
      "/usr/lib/python3/dist-packages/bs4/__init__.py:166: UserWarning: No parser was explicitly specified, so I'm using the best available HTML parser for this system (\"lxml\"). This usually isn't a problem, but if you run this code on another system, or in a different virtual environment, it may use a different parser and behave differently.\n",
      "\n",
      "To get rid of this warning, change this:\n",
      "\n",
      " BeautifulSoup([your markup])\n",
      "\n",
      "to this:\n",
      "\n",
      " BeautifulSoup([your markup], \"lxml\")\n",
      "\n",
      "  markup_type=markup_type))\n"
     ]
    }
   ],
   "source": [
    "# using BeautifulSoup\n",
    "ps = BeautifulSoup(html_string)"
   ]
  },
  {
   "cell_type": "code",
   "execution_count": 5,
   "metadata": {},
   "outputs": [
    {
     "name": "stdout",
     "output_type": "stream",
     "text": [
      "<!DOCTYPE html>\n",
      "<html>\n",
      "<head>\n",
      "<title>Doing Data Science using Python</title>\n",
      "</head>\n",
      "<body>\n",
      "<h1 style=\"color: #F15B2A\">Doing Data Science using Python</h1>\n",
      "<p id=\"author\">Author: Bhavana</p>\n",
      "<p id=\"desription\">This is an example</p>\n",
      "<h4 style=\"color:#404040\">Modules</h4>\n",
      "<table id=\"table\" style=\"width:50%\">\n",
      "<tr>\n",
      "<th>Title</th>\n",
      "<th>Duration(in minutes)</th>\n",
      "</tr>\n",
      "<tr>\n",
      "<td>Getting Started</td>\n",
      "<td>20</td>\n",
      "</tr>\n",
      "<tr>\n",
      "<td>Setting up environment</td>\n",
      "<td>35</td>\n",
      "</tr>\n",
      "<tr>\n",
      "<td>Extracting data</td>\n",
      "<td>45</td>\n",
      "</tr>\n",
      "<tr>\n",
      "<td>Exploring and processing data</td>\n",
      "<td>60</td>\n",
      "</tr>\n",
      "<tr>\n",
      "<td>Building predictive model</td>\n",
      "<td>50</td>\n",
      "</tr>\n",
      "</table>\n",
      "</body>\n",
      "</html>\n",
      "\n"
     ]
    }
   ],
   "source": [
    "# obatining the structure of the document\n",
    "print(ps)"
   ]
  },
  {
   "cell_type": "code",
   "execution_count": 6,
   "metadata": {},
   "outputs": [],
   "source": [
    "#obtaining the body of the document using find function\n",
    "body = ps.find(name=\"body\")"
   ]
  },
  {
   "cell_type": "code",
   "execution_count": 7,
   "metadata": {},
   "outputs": [
    {
     "name": "stdout",
     "output_type": "stream",
     "text": [
      "<body>\n",
      "<h1 style=\"color: #F15B2A\">Doing Data Science using Python</h1>\n",
      "<p id=\"author\">Author: Bhavana</p>\n",
      "<p id=\"desription\">This is an example</p>\n",
      "<h4 style=\"color:#404040\">Modules</h4>\n",
      "<table id=\"table\" style=\"width:50%\">\n",
      "<tr>\n",
      "<th>Title</th>\n",
      "<th>Duration(in minutes)</th>\n",
      "</tr>\n",
      "<tr>\n",
      "<td>Getting Started</td>\n",
      "<td>20</td>\n",
      "</tr>\n",
      "<tr>\n",
      "<td>Setting up environment</td>\n",
      "<td>35</td>\n",
      "</tr>\n",
      "<tr>\n",
      "<td>Extracting data</td>\n",
      "<td>45</td>\n",
      "</tr>\n",
      "<tr>\n",
      "<td>Exploring and processing data</td>\n",
      "<td>60</td>\n",
      "</tr>\n",
      "<tr>\n",
      "<td>Building predictive model</td>\n",
      "<td>50</td>\n",
      "</tr>\n",
      "</table>\n",
      "</body>\n"
     ]
    }
   ],
   "source": [
    "print(body)"
   ]
  },
  {
   "cell_type": "code",
   "execution_count": 8,
   "metadata": {},
   "outputs": [],
   "source": [
    "# obatining the text content only\n",
    "h1 = ps.find(name=\"h1\").text"
   ]
  },
  {
   "cell_type": "code",
   "execution_count": 9,
   "metadata": {},
   "outputs": [
    {
     "name": "stdout",
     "output_type": "stream",
     "text": [
      "Doing Data Science using Python\n"
     ]
    }
   ],
   "source": [
    "print(h1)"
   ]
  },
  {
   "cell_type": "code",
   "execution_count": 10,
   "metadata": {},
   "outputs": [],
   "source": [
    "p = ps.find(name=\"p\")"
   ]
  },
  {
   "cell_type": "code",
   "execution_count": 11,
   "metadata": {},
   "outputs": [
    {
     "name": "stdout",
     "output_type": "stream",
     "text": [
      "<p id=\"author\">Author: Bhavana</p>\n"
     ]
    }
   ],
   "source": [
    "print(p)"
   ]
  },
  {
   "cell_type": "code",
   "execution_count": 12,
   "metadata": {},
   "outputs": [],
   "source": [
    "# obtaining all the <p> elements\n",
    "p_all = ps.findAll(name=\"p\")"
   ]
  },
  {
   "cell_type": "code",
   "execution_count": 13,
   "metadata": {},
   "outputs": [
    {
     "name": "stdout",
     "output_type": "stream",
     "text": [
      "[<p id=\"author\">Author: Bhavana</p>, <p id=\"desription\">This is an example</p>]\n"
     ]
    }
   ],
   "source": [
    "print(p_all)"
   ]
  },
  {
   "cell_type": "code",
   "execution_count": 14,
   "metadata": {},
   "outputs": [
    {
     "name": "stdout",
     "output_type": "stream",
     "text": [
      "Author: Bhavana\n",
      "This is an example\n"
     ]
    }
   ],
   "source": [
    "for p in p_all:\n",
    "    print(p.text)"
   ]
  },
  {
   "cell_type": "code",
   "execution_count": 15,
   "metadata": {},
   "outputs": [
    {
     "name": "stdout",
     "output_type": "stream",
     "text": [
      "Author: Bhavana\n"
     ]
    }
   ],
   "source": [
    "# obtaining data based on attribute\n",
    "print(ps.find(name=\"p\",attrs={\"id\":\"author\"}).text)"
   ]
  },
  {
   "cell_type": "code",
   "execution_count": 19,
   "metadata": {},
   "outputs": [
    {
     "name": "stdout",
     "output_type": "stream",
     "text": [
      "This is an example\n"
     ]
    }
   ],
   "source": [
    "print(ps.find(name=\"p\",attrs={\"id\":\"desription\"}).text)"
   ]
  },
  {
   "cell_type": "code",
   "execution_count": 24,
   "metadata": {},
   "outputs": [
    {
     "name": "stdout",
     "output_type": "stream",
     "text": [
      "Getting Started 20\n",
      "Setting up environment 35\n",
      "Extracting data 45\n",
      "Exploring and processing data 60\n",
      "Building predictive model 50\n"
     ]
    }
   ],
   "source": [
    "body = ps.find(name=\"body\")\n",
    "module_data = body.find(name=\"table\", attrs={\"id\":\"table\"})\n",
    "for row in module_data.findAll(name=\"tr\") [1:]: #here [1:] indicates that we are trying to skip the first row\n",
    "    title = row.findAll(name=\"td\")[0].text\n",
    "    duration = int(row.findAll(name=\"td\")[1].text)\n",
    "    print(title,duration)"
   ]
  },
  {
   "cell_type": "code",
   "execution_count": null,
   "metadata": {},
   "outputs": [],
   "source": []
  }
 ],
 "metadata": {
  "kernelspec": {
   "display_name": "Python 3",
   "language": "python",
   "name": "python3"
  },
  "language_info": {
   "codemirror_mode": {
    "name": "ipython",
    "version": 3
   },
   "file_extension": ".py",
   "mimetype": "text/x-python",
   "name": "python",
   "nbconvert_exporter": "python",
   "pygments_lexer": "ipython3",
   "version": "3.5.2"
  }
 },
 "nbformat": 4,
 "nbformat_minor": 2
}
